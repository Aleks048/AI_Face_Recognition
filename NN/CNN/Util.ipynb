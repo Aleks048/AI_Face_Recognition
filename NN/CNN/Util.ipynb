{
 "cells": [
  {
   "cell_type": "code",
   "execution_count": null,
   "metadata": {},
   "outputs": [],
   "source": [
    "import shutil\n",
    "import os\n",
    "\n",
    "def dictToTxt(dictionary,file):\n",
    "    if os.path.isdir(file):\n",
    "        shutil.rmtree(file) \n",
    "    file = open(file, 'w+')  \n",
    "    for k,v in dictionary.items():\n",
    "        file.write(str(k)+' '+str(v)+'\\n')\n",
    "    file.close()\n",
    "\n",
    "def TxtToDict(file):\n",
    "    dictionary = {}\n",
    "    file = open(file,'r')\n",
    "    for line in file.readlines():\n",
    "        line = line.strip()\n",
    "        k = line.split(' ')[0]\n",
    "        v = line.split(' ')[1]\n",
    "        dictionary[k] = v\n",
    "    file.close()\n",
    "    return dictionary"
   ]
  }
 ],
 "metadata": {
  "kernelspec": {
   "display_name": "Python 3",
   "language": "python",
   "name": "python3"
  },
  "language_info": {
   "codemirror_mode": {
    "name": "ipython",
    "version": 3
   },
   "file_extension": ".py",
   "mimetype": "text/x-python",
   "name": "python",
   "nbconvert_exporter": "python",
   "pygments_lexer": "ipython3",
   "version": "3.7.4"
  }
 },
 "nbformat": 4,
 "nbformat_minor": 2
}
