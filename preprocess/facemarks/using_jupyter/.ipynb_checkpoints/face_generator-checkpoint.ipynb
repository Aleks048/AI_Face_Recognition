{
 "cells": [
  {
   "cell_type": "code",
   "execution_count": 2,
   "metadata": {},
   "outputs": [
    {
     "name": "stdout",
     "output_type": "stream",
     "text": [
      "my name:thyx\n"
     ]
    },
    {
     "ename": "NameError",
     "evalue": "name 'img_rd' is not defined",
     "output_type": "error",
     "traceback": [
      "\u001b[1;31m---------------------------------------------------------------------------\u001b[0m",
      "\u001b[1;31mNameError\u001b[0m                                 Traceback (most recent call last)",
      "\u001b[1;32m<ipython-input-2-97b56baaa54f>\u001b[0m in \u001b[0;36m<module>\u001b[1;34m\u001b[0m\n\u001b[0;32m     78\u001b[0m     \u001b[0mprint\u001b[0m\u001b[1;33m(\u001b[0m\u001b[1;34m\"generate successfully!\"\u001b[0m\u001b[1;33m)\u001b[0m\u001b[1;33m\u001b[0m\u001b[1;33m\u001b[0m\u001b[0m\n\u001b[0;32m     79\u001b[0m \u001b[1;33m\u001b[0m\u001b[0m\n\u001b[1;32m---> 80\u001b[1;33m \u001b[0mgenerator\u001b[0m\u001b[1;33m(\u001b[0m\u001b[1;34m\"small_face_dataset\"\u001b[0m\u001b[1;33m)\u001b[0m\u001b[1;33m\u001b[0m\u001b[1;33m\u001b[0m\u001b[0m\n\u001b[0m",
      "\u001b[1;32m<ipython-input-2-97b56baaa54f>\u001b[0m in \u001b[0;36mgenerator\u001b[1;34m(dataset)\u001b[0m\n\u001b[0;32m     64\u001b[0m                 \u001b[0my2\u001b[0m \u001b[1;33m=\u001b[0m \u001b[0md\u001b[0m\u001b[1;33m.\u001b[0m\u001b[0mright\u001b[0m\u001b[1;33m(\u001b[0m\u001b[1;33m)\u001b[0m \u001b[1;32mif\u001b[0m \u001b[0md\u001b[0m\u001b[1;33m.\u001b[0m\u001b[0mright\u001b[0m\u001b[1;33m(\u001b[0m\u001b[1;33m)\u001b[0m \u001b[1;33m>\u001b[0m \u001b[1;36m0\u001b[0m \u001b[1;32melse\u001b[0m \u001b[1;36m0\u001b[0m\u001b[1;33m\u001b[0m\u001b[1;33m\u001b[0m\u001b[0m\n\u001b[0;32m     65\u001b[0m \u001b[1;33m\u001b[0m\u001b[0m\n\u001b[1;32m---> 66\u001b[1;33m                 \u001b[0mcv2\u001b[0m\u001b[1;33m.\u001b[0m\u001b[0mrectangle\u001b[0m\u001b[1;33m(\u001b[0m\u001b[0mimg_rd\u001b[0m\u001b[1;33m,\u001b[0m \u001b[0mtuple\u001b[0m\u001b[1;33m(\u001b[0m\u001b[1;33m[\u001b[0m\u001b[0md\u001b[0m\u001b[1;33m.\u001b[0m\u001b[0mleft\u001b[0m\u001b[1;33m(\u001b[0m\u001b[1;33m)\u001b[0m\u001b[1;33m,\u001b[0m \u001b[0md\u001b[0m\u001b[1;33m.\u001b[0m\u001b[0mtop\u001b[0m\u001b[1;33m(\u001b[0m\u001b[1;33m)\u001b[0m\u001b[1;33m]\u001b[0m\u001b[1;33m)\u001b[0m\u001b[1;33m,\u001b[0m \u001b[0mtuple\u001b[0m\u001b[1;33m(\u001b[0m\u001b[1;33m[\u001b[0m\u001b[0md\u001b[0m\u001b[1;33m.\u001b[0m\u001b[0mright\u001b[0m\u001b[1;33m(\u001b[0m\u001b[1;33m)\u001b[0m\u001b[1;33m,\u001b[0m \u001b[0md\u001b[0m\u001b[1;33m.\u001b[0m\u001b[0mbottom\u001b[0m\u001b[1;33m(\u001b[0m\u001b[1;33m)\u001b[0m\u001b[1;33m]\u001b[0m\u001b[1;33m)\u001b[0m\u001b[1;33m,\u001b[0m \u001b[1;33m(\u001b[0m\u001b[1;36m0\u001b[0m\u001b[1;33m,\u001b[0m \u001b[1;36m255\u001b[0m\u001b[1;33m,\u001b[0m \u001b[1;36m255\u001b[0m\u001b[1;33m)\u001b[0m\u001b[1;33m,\u001b[0m \u001b[1;36m2\u001b[0m\u001b[1;33m)\u001b[0m\u001b[1;33m\u001b[0m\u001b[1;33m\u001b[0m\u001b[0m\n\u001b[0m\u001b[0;32m     67\u001b[0m \u001b[1;33m\u001b[0m\u001b[0m\n\u001b[0;32m     68\u001b[0m             \u001b[0mface\u001b[0m \u001b[1;33m=\u001b[0m \u001b[0mframe\u001b[0m\u001b[1;33m[\u001b[0m\u001b[0mx1\u001b[0m\u001b[1;33m:\u001b[0m\u001b[0my1\u001b[0m\u001b[1;33m,\u001b[0m\u001b[0mx2\u001b[0m\u001b[1;33m:\u001b[0m\u001b[0my2\u001b[0m\u001b[1;33m]\u001b[0m\u001b[1;33m\u001b[0m\u001b[1;33m\u001b[0m\u001b[0m\n",
      "\u001b[1;31mNameError\u001b[0m: name 'img_rd' is not defined"
     ]
    }
   ],
   "source": [
    "import os\n",
    "import shutil\n",
    "from cv2 import cv2 as cv2\n",
    "import dlib\n",
    "\n",
    "size=250\n",
    "\n",
    "\n",
    "#generate face data\n",
    "def generator(dataset):\n",
    "    name = input('my name:')\n",
    "    #if the path exist, delete it\n",
    "    path = os.path.join(dataset,name)\n",
    "    if os.path.isdir(path):\n",
    "        shutil.rmtree(path)    \n",
    "        \n",
    "    #create a directory\n",
    "    os.mkdir(path)\n",
    "    \n",
    "    #create a cascade classifier, load a xml classifier file (Haar or LBP)\n",
    "#    face_cascade = cv2.CascadeClassifier('D:\\Python37\\Lib\\site-packages\\cv2\\data\\haarcascade_frontalface_default.xml')\n",
    "    detector = dlib.get_frontal_face_detector()\n",
    "    \n",
    "    #open camera   \n",
    "    camera = cv2.VideoCapture(0)\n",
    "    cv2.namedWindow('Camera')\n",
    "    index = 1\n",
    "    \n",
    "#     while(True):\n",
    "#         #read a frame\n",
    "#         ret,frame = camera.read()\n",
    "#         if ret:\n",
    "#             #gray image\n",
    "#             gray_img = cv2.cvtColor(frame,cv2.COLOR_BGR2GRAY)\n",
    "#             #face detection\n",
    "#             faces = detector.detectMultiScale(gray_img,1.3,5)            \n",
    "#             for (x,y,w,h) in faces:\n",
    "#                 #draw a rectangle in the image\n",
    "#                 cv2.rectangle(frame,(x,y),(x+w,y+h),(255,0,0),2)\n",
    "#                 #adjeust the size of image, same size with the dataset\n",
    "#                 f = cv2.resize(frame[y:y+h,x:x+w],(250,250))\n",
    "#                 #save the faces\n",
    "#                 cv2.imwrite('%s/%s.jpg'%(path,str(count)),f)\n",
    "#                 count += 1                \n",
    "#             cv2.imshow('Camera',frame)            \n",
    "#             #press q to exit\n",
    "#             if cv2.waitKey(100) & 0xff == ord('q') :\n",
    "#                 break\n",
    "#     camera.release()\n",
    "#     cv2.destroyAllWindows()\n",
    "#     print(\"generate successfully!\")\n",
    "    while(True):\n",
    "        #read a frame\n",
    "        ret,frame = camera.read()\n",
    "        if ret:\n",
    "            #gray image\n",
    "            gray_img = cv2.cvtColor(frame,cv2.COLOR_BGR2GRAY)\n",
    "            #face detection\n",
    "            faces = detector(gray_img, 1)          \n",
    "            for i, d in enumerate(faces):\n",
    "                x1 = d.top() if d.top() > 0 else 0\n",
    "                y1 = d.bottom() if d.bottom() > 0 else 0\n",
    "                x2 = d.left() if d.left() > 0 else 0\n",
    "                y2 = d.right() if d.right() > 0 else 0\n",
    "            \n",
    "                cv2.rectangle(frame, tuple([d.left(), d.top()]), tuple([d.right(), d.bottom()]), (0, 255, 255), 2)\n",
    "            \n",
    "            face = frame[x1:y1,x2:y2]\n",
    "            face = cv2.resize(face, (size,size))         \n",
    "            cv2.imwrite(\"small_face_dataset/\"+name+'/'+str(index)+'.jpg', face)\n",
    "            index += 1      \n",
    "            cv2.imshow('Camera',frame)\n",
    "            #press q to exit\n",
    "            if cv2.waitKey(100) & 0xff == ord('q') :\n",
    "                break\n",
    "    camera.release()\n",
    "    cv2.destroyAllWindows()\n",
    "    print(\"generate successfully!\")\n",
    "\n",
    "generator(\"small_face_dataset\")\n"
   ]
  }
 ],
 "metadata": {
  "kernelspec": {
   "display_name": "Python 3",
   "language": "python",
   "name": "python3"
  },
  "language_info": {
   "codemirror_mode": {
    "name": "ipython",
    "version": 3
   },
   "file_extension": ".py",
   "mimetype": "text/x-python",
   "name": "python",
   "nbconvert_exporter": "python",
   "pygments_lexer": "ipython3",
   "version": "3.7.4"
  }
 },
 "nbformat": 4,
 "nbformat_minor": 2
}
