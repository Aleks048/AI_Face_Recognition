{
 "cells": [
  {
   "cell_type": "code",
   "execution_count": 9,
   "metadata": {},
   "outputs": [
    {
     "name": "stdout",
     "output_type": "stream",
     "text": [
      "faces [[ 13  13 228 228]]\n",
      "testing LBF\n"
     ]
    },
    {
     "ename": "NameError",
     "evalue": "name 'img' is not defined",
     "output_type": "error",
     "traceback": [
      "\u001b[1;31m---------------------------------------------------------------------------\u001b[0m",
      "\u001b[1;31mNameError\u001b[0m                                 Traceback (most recent call last)",
      "\u001b[1;32m<ipython-input-9-66bb4e7047e6>\u001b[0m in \u001b[0;36m<module>\u001b[1;34m\u001b[0m\n\u001b[0;32m     26\u001b[0m         \u001b[0mcv2\u001b[0m\u001b[1;33m.\u001b[0m\u001b[0mcircle\u001b[0m\u001b[1;33m(\u001b[0m\u001b[0mimage\u001b[0m\u001b[1;33m,\u001b[0m \u001b[1;33m(\u001b[0m\u001b[0mpoint\u001b[0m\u001b[1;33m[\u001b[0m\u001b[1;36m0\u001b[0m\u001b[1;33m]\u001b[0m\u001b[1;33m,\u001b[0m\u001b[0mpoint\u001b[0m\u001b[1;33m[\u001b[0m\u001b[1;36m1\u001b[0m\u001b[1;33m]\u001b[0m\u001b[1;33m)\u001b[0m\u001b[1;33m,\u001b[0m \u001b[1;36m5\u001b[0m\u001b[1;33m,\u001b[0m \u001b[0mcolor\u001b[0m\u001b[1;33m=\u001b[0m\u001b[1;33m(\u001b[0m\u001b[1;36m0\u001b[0m\u001b[1;33m,\u001b[0m \u001b[1;36m255\u001b[0m\u001b[1;33m,\u001b[0m \u001b[1;36m0\u001b[0m\u001b[1;33m)\u001b[0m\u001b[1;33m)\u001b[0m\u001b[1;33m\u001b[0m\u001b[1;33m\u001b[0m\u001b[0m\n\u001b[0;32m     27\u001b[0m \u001b[0mcv2\u001b[0m\u001b[1;33m.\u001b[0m\u001b[0mnamedWindow\u001b[0m\u001b[1;33m(\u001b[0m\u001b[1;34m\"img\"\u001b[0m\u001b[1;33m,\u001b[0m \u001b[1;36m2\u001b[0m\u001b[1;33m)\u001b[0m\u001b[1;33m\u001b[0m\u001b[1;33m\u001b[0m\u001b[0m\n\u001b[1;32m---> 28\u001b[1;33m \u001b[0mcv2\u001b[0m\u001b[1;33m.\u001b[0m\u001b[0mimshow\u001b[0m\u001b[1;33m(\u001b[0m\u001b[1;34m\"img\"\u001b[0m\u001b[1;33m,\u001b[0m \u001b[0mimg\u001b[0m\u001b[1;33m)\u001b[0m\u001b[1;33m\u001b[0m\u001b[1;33m\u001b[0m\u001b[0m\n\u001b[0m\u001b[0;32m     29\u001b[0m \u001b[0mcv2\u001b[0m\u001b[1;33m.\u001b[0m\u001b[0mwaitKey\u001b[0m\u001b[1;33m(\u001b[0m\u001b[1;36m0\u001b[0m\u001b[1;33m)\u001b[0m\u001b[1;33m\u001b[0m\u001b[1;33m\u001b[0m\u001b[0m\n\u001b[0;32m     30\u001b[0m \u001b[1;31m# print(\"testing AAM\")\u001b[0m\u001b[1;33m\u001b[0m\u001b[1;33m\u001b[0m\u001b[1;33m\u001b[0m\u001b[0m\n",
      "\u001b[1;31mNameError\u001b[0m: name 'img' is not defined"
     ]
    }
   ],
   "source": [
    "# Import required packages:\n",
    "import cv2\n",
    "import numpy as np\n",
    "\n",
    "# Load image: \n",
    "image = cv2.imread(\"2.jpg\",0)\n",
    "\n",
    "# Find faces:\n",
    "cas = cv2.CascadeClassifier(\"D:\\Python37\\Lib\\site-packages\\cv2\\data\\haarcascade_frontalface_alt2.xml\")\n",
    "faces = cas.detectMultiScale(image , 1.5, 5)\n",
    "print(\"faces\", faces)\n",
    "\n",
    "# At this point, we create landmark detectors and test them:\n",
    "print(\"testing LBF\")\n",
    "facemark = cv2.face.createFacemarkLBF()\n",
    "facemark .loadModel(\"lbfmodel.yaml\")\n",
    "ok, landmarks = facemark.fit(image , faces)\n",
    "# print (type(landmarks))\n",
    "# print (landmarks[0][0])\n",
    "points=landmarks[0][0]\n",
    "for point in points:\n",
    "        # 68 coordinates\n",
    "#         pos = (point[][0, 0], point[0, 1])\n",
    "\n",
    "        # circle the characteristics，total of 68\n",
    "        cv2.circle(image, (point[0],point[1]), 5, color=(0, 255, 0))\n",
    "cv2.namedWindow(\"img\", 2)\n",
    "cv2.imshow(\"img\", image)\n",
    "cv2.waitKey(0)\n",
    "# print(\"testing AAM\")\n",
    "# facemark = cv2.face.createFacemarkAAM()\n",
    "# facemark .loadModel(\"aam.xml\")\n",
    "# ok, landmarks = facemark.fit(image , faces)\n",
    "# print (\"landmarks AAM\", ok, landmarks)\n",
    "\n",
    "# print(\"testing Kazemi\")\n",
    "# facemark = cv2.face.createFacemarkKazemi()\n",
    "# facemark .loadModel(\"face_landmark_model.dat\")\n",
    "# ok, landmarks = facemark.fit(image , faces)\n",
    "# print (\"landmarks Kazemi\", ok, landmarks)"
   ]
  },
  {
   "cell_type": "code",
   "execution_count": null,
   "metadata": {},
   "outputs": [],
   "source": []
  }
 ],
 "metadata": {
  "kernelspec": {
   "display_name": "Python 3",
   "language": "python",
   "name": "python3"
  },
  "language_info": {
   "codemirror_mode": {
    "name": "ipython",
    "version": 3
   },
   "file_extension": ".py",
   "mimetype": "text/x-python",
   "name": "python",
   "nbconvert_exporter": "python",
   "pygments_lexer": "ipython3",
   "version": "3.7.4"
  }
 },
 "nbformat": 4,
 "nbformat_minor": 2
}
