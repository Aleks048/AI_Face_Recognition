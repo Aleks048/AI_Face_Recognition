{
 "cells": [
  {
   "cell_type": "code",
   "execution_count": null,
   "metadata": {},
   "outputs": [],
   "source": [
    "import configparser\n",
    "\n",
    "cf=configparser.ConfigParser()\n",
    "cf.read(\"config.ini\")\n",
    "\n",
    "#get all section\n",
    "def getSections():\n",
    "    return cf.sections()\n",
    "\n",
    "#get options in a section\n",
    "def getOptions(section):\n",
    "    return cf.options(section)\n",
    "\n",
    "#get items( return string)\n",
    "def getItem_string(section, option):\n",
    "    return cf.get(section,option)\n",
    "\n",
    "#get items( return int)\n",
    "def getItem_int(section, option):\n",
    "    return cf.getint(section,option)\n",
    "\n",
    "\n",
    "    "
   ]
  }
 ],
 "metadata": {
  "kernelspec": {
   "display_name": "Python 3",
   "language": "python",
   "name": "python3"
  },
  "language_info": {
   "codemirror_mode": {
    "name": "ipython",
    "version": 3
   },
   "file_extension": ".py",
   "mimetype": "text/x-python",
   "name": "python",
   "nbconvert_exporter": "python",
   "pygments_lexer": "ipython3",
   "version": "3.7.4"
  }
 },
 "nbformat": 4,
 "nbformat_minor": 2
}