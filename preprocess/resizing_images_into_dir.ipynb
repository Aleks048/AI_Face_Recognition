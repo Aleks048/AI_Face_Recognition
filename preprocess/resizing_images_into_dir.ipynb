{
 "cells": [
  {
   "cell_type": "code",
   "execution_count": null,
   "metadata": {},
   "outputs": [],
   "source": [
    "import os\n",
    "import re\n",
    "\n",
    "import numpy\n",
    "from ipynb.fs.full.config import getItem_int, getItem_string\n",
    "from PIL import Image\n",
    "\n",
    "\n",
    "def resize_image(imagePath, savePath, x, y):\n",
    "    # if the path is exist\n",
    "    if os.path.exists(imagePath):\n",
    "        # get all directories in the imagePath\n",
    "        directory = os.listdir(imagePath)\n",
    "        for nameSubdirectory in directory:\n",
    "            nameSubdirectories = os.path.join(imagePath, nameSubdirectory)\n",
    "            for faceSubdirectory in os.listdir(nameSubdirectories):\n",
    "                faceSubdirectories = os.path.join(nameSubdirectories, faceSubdirectory)\n",
    "                for image in os.listdir(faceSubdirectories):\n",
    "                    imgPath = os.path.join(faceSubdirectories, image)\n",
    "#                     print(imgPath)\n",
    "                    # if it is a file\n",
    "                    if os.path.isfile(imgPath):\n",
    "                        getImage = Image.open(imgPath)\n",
    "                        # resize images\n",
    "                        imageAr = numpy.asarray(getImage.resize((x, y)))\n",
    "                        resized_image = Image.fromarray(imageAr)\n",
    "                        # if output directory doesnt exist, make it\n",
    "                        if not os.path.exists(savePath + \"/\" + nameSubdirectory):\n",
    "                            os.makedirs(savePath + \"/\" + nameSubdirectory)\n",
    "                        # get original image name\n",
    "                        m = re.search(r\"[^\\]+$\", imgPath)\n",
    "#                         print(savePath + \"/\" + nameSubdirectory + \"/\" + m.group(0))\n",
    "                        resized_image.save(\n",
    "                            savePath + \"/\" + nameSubdirectory + \"/\" + m.group(0), \"jpeg\"\n",
    "                        )\n",
    "        print(\"done!\")\n",
    "    else:\n",
    "        print(\"imagePath is invalid: \", imagePath)\n",
    "\n",
    "\n",
    "def resize_images(imagesPaths, x, y):\n",
    "    for imP in imagesPaths:\n",
    "        resize_image(imP, imP, x, y)\n",
    "\n",
    "\n",
    "if __name__ == \"__main__\":\n",
    "    resize_image(\n",
    "        getItem_string(\"dataset\", \"youtube_dataset\"),\n",
    "        getItem_string(\"dataset\", \"resize_dir\"),\n",
    "        getItem_int(\"dataset\", \"image_size\"),\n",
    "        getItem_int(\"dataset\", \"image_size\"),\n",
    "    )"
   ]
  }
 ],
 "metadata": {
  "kernelspec": {
   "display_name": "Python 3",
   "language": "python",
   "name": "python3"
  },
  "language_info": {
   "codemirror_mode": {
    "name": "ipython",
    "version": 3
   },
   "file_extension": ".py",
   "mimetype": "text/x-python",
   "name": "python",
   "nbconvert_exporter": "python",
   "pygments_lexer": "ipython3",
   "version": "3.7.4"
  }
 },
 "nbformat": 4,
 "nbformat_minor": 2
}
